{
 "cells": [
  {
   "cell_type": "code",
   "execution_count": 43,
   "metadata": {},
   "outputs": [],
   "source": [
    "import pandas as pd\n",
    "import numpy as np\n",
    "import os\n",
    "from sklearn.feature_extraction.text import CountVectorizer\n",
    "from sklearn.decomposition import LatentDirichletAllocation\n",
    "import plotly.express as px"
   ]
  },
  {
   "cell_type": "code",
   "execution_count": 44,
   "metadata": {},
   "outputs": [],
   "source": [
    "train_dir = 'ReutersC50/C50train'\n",
    "test_dir = 'ReutersC50/C50test'\n",
    "\n",
    "def extract_data(folder_path, label):\n",
    "    data = []\n",
    "    train_authors = os.listdir(folder_path)\n",
    "    train_authors.sort()\n",
    "    for author in train_authors:\n",
    "        if author[0] != '.':\n",
    "            files = os.listdir(folder_path + '/' + author)\n",
    "            files.sort()\n",
    "            for file in files:\n",
    "                file_path = folder_path + '/' + author + '/' + file\n",
    "                with open(file_path, 'r') as fp:\n",
    "                    for line in fp:\n",
    "                        line = line.strip()\n",
    "                        data.append([line, author, file, label])\n",
    "    return data\n",
    "\n",
    "train = extract_data(train_dir, label='train')\n",
    "test = extract_data(test_dir, label='test')"
   ]
  },
  {
   "cell_type": "code",
   "execution_count": 45,
   "metadata": {},
   "outputs": [
    {
     "data": {
      "text/html": [
       "<div>\n",
       "<style scoped>\n",
       "    .dataframe tbody tr th:only-of-type {\n",
       "        vertical-align: middle;\n",
       "    }\n",
       "\n",
       "    .dataframe tbody tr th {\n",
       "        vertical-align: top;\n",
       "    }\n",
       "\n",
       "    .dataframe thead th {\n",
       "        text-align: right;\n",
       "    }\n",
       "</style>\n",
       "<table border=\"1\" class=\"dataframe\">\n",
       "  <thead>\n",
       "    <tr style=\"text-align: right;\">\n",
       "      <th></th>\n",
       "      <th>Text</th>\n",
       "      <th>Author</th>\n",
       "      <th>File_Name</th>\n",
       "      <th>Label</th>\n",
       "    </tr>\n",
       "  </thead>\n",
       "  <tbody>\n",
       "    <tr>\n",
       "      <th>0</th>\n",
       "      <td>The Internet may be overflowing with new techn...</td>\n",
       "      <td>AaronPressman</td>\n",
       "      <td>106247newsML.txt</td>\n",
       "      <td>train</td>\n",
       "    </tr>\n",
       "    <tr>\n",
       "      <th>1</th>\n",
       "      <td>The National Consumers League said Wednesday t...</td>\n",
       "      <td>AaronPressman</td>\n",
       "      <td>106247newsML.txt</td>\n",
       "      <td>train</td>\n",
       "    </tr>\n",
       "    <tr>\n",
       "      <th>2</th>\n",
       "      <td>The league, a non-profit consumer advocacy gro...</td>\n",
       "      <td>AaronPressman</td>\n",
       "      <td>106247newsML.txt</td>\n",
       "      <td>train</td>\n",
       "    </tr>\n",
       "    <tr>\n",
       "      <th>3</th>\n",
       "      <td>The site, which collects reports directly from...</td>\n",
       "      <td>AaronPressman</td>\n",
       "      <td>106247newsML.txt</td>\n",
       "      <td>train</td>\n",
       "    </tr>\n",
       "    <tr>\n",
       "      <th>4</th>\n",
       "      <td>\"Consumers who suspect a scam on the Internet ...</td>\n",
       "      <td>AaronPressman</td>\n",
       "      <td>106247newsML.txt</td>\n",
       "      <td>train</td>\n",
       "    </tr>\n",
       "    <tr>\n",
       "      <th>...</th>\n",
       "      <td>...</td>\n",
       "      <td>...</td>\n",
       "      <td>...</td>\n",
       "      <td>...</td>\n",
       "    </tr>\n",
       "    <tr>\n",
       "      <th>44210</th>\n",
       "      <td>The suspension followed the magazine's publica...</td>\n",
       "      <td>WilliamKazer</td>\n",
       "      <td>58312newsML.txt</td>\n",
       "      <td>test</td>\n",
       "    </tr>\n",
       "    <tr>\n",
       "      <th>44211</th>\n",
       "      <td>Western diplomats and Chinese analysts have de...</td>\n",
       "      <td>WilliamKazer</td>\n",
       "      <td>58312newsML.txt</td>\n",
       "      <td>test</td>\n",
       "    </tr>\n",
       "    <tr>\n",
       "      <th>44212</th>\n",
       "      <td>The president of the outspoken Beijing Youth D...</td>\n",
       "      <td>WilliamKazer</td>\n",
       "      <td>58312newsML.txt</td>\n",
       "      <td>test</td>\n",
       "    </tr>\n",
       "    <tr>\n",
       "      <th>44213</th>\n",
       "      <td>The clampdown has been fuelled by a call for \"...</td>\n",
       "      <td>WilliamKazer</td>\n",
       "      <td>58312newsML.txt</td>\n",
       "      <td>test</td>\n",
       "    </tr>\n",
       "    <tr>\n",
       "      <th>44214</th>\n",
       "      <td>Party chief Jiang is said to have distanced hi...</td>\n",
       "      <td>WilliamKazer</td>\n",
       "      <td>58312newsML.txt</td>\n",
       "      <td>test</td>\n",
       "    </tr>\n",
       "  </tbody>\n",
       "</table>\n",
       "<p>87859 rows × 4 columns</p>\n",
       "</div>"
      ],
      "text/plain": [
       "                                                    Text         Author  \\\n",
       "0      The Internet may be overflowing with new techn...  AaronPressman   \n",
       "1      The National Consumers League said Wednesday t...  AaronPressman   \n",
       "2      The league, a non-profit consumer advocacy gro...  AaronPressman   \n",
       "3      The site, which collects reports directly from...  AaronPressman   \n",
       "4      \"Consumers who suspect a scam on the Internet ...  AaronPressman   \n",
       "...                                                  ...            ...   \n",
       "44210  The suspension followed the magazine's publica...   WilliamKazer   \n",
       "44211  Western diplomats and Chinese analysts have de...   WilliamKazer   \n",
       "44212  The president of the outspoken Beijing Youth D...   WilliamKazer   \n",
       "44213  The clampdown has been fuelled by a call for \"...   WilliamKazer   \n",
       "44214  Party chief Jiang is said to have distanced hi...   WilliamKazer   \n",
       "\n",
       "              File_Name  Label  \n",
       "0      106247newsML.txt  train  \n",
       "1      106247newsML.txt  train  \n",
       "2      106247newsML.txt  train  \n",
       "3      106247newsML.txt  train  \n",
       "4      106247newsML.txt  train  \n",
       "...                 ...    ...  \n",
       "44210   58312newsML.txt   test  \n",
       "44211   58312newsML.txt   test  \n",
       "44212   58312newsML.txt   test  \n",
       "44213   58312newsML.txt   test  \n",
       "44214   58312newsML.txt   test  \n",
       "\n",
       "[87859 rows x 4 columns]"
      ]
     },
     "execution_count": 45,
     "metadata": {},
     "output_type": "execute_result"
    }
   ],
   "source": [
    "train = pd.DataFrame(train, columns=['Text', 'Author', 'File_Name', 'Label'])\n",
    "test = pd.DataFrame(test, columns=['Text', 'Author', 'File_Name', 'Label'])\n",
    "data = pd.concat([train, test])\n",
    "data"
   ]
  },
  {
   "cell_type": "code",
   "execution_count": 31,
   "metadata": {},
   "outputs": [
    {
     "name": "stdout",
     "output_type": "stream",
     "text": [
      "Topic 1:\n",
      "['united', 'states', 'trade', 'said', 'drug', 'china', 'ban', 'department', 'colombia', 'congress']\n",
      "Topic 2:\n",
      "['hong', 'kong', 'china', 'said', 'tung', 'chinese', 'people', 'territory', 'rule', 'says']\n",
      "Topic 3:\n",
      "['internet', 'corp', 'new', 'computer', 'said', 'software', 'technology', 'microsoft', 'network', 'services']\n",
      "Topic 4:\n",
      "['said', 'financial', 'chairman', 'president', 'statement', 'company', 'vice', 'board', 'right', 'street']\n",
      "Topic 5:\n",
      "['amp', 'local', 'long', 'market', 'competition', 'service', 'phone', 'cable', 'rules', 'companies']\n",
      "Topic 6:\n",
      "['told', 'reuters', 'director', 'interview', 'reporters', 'quality', 'telephone', 'areas', 'conference', 'managing']\n",
      "Topic 7:\n",
      "['china', 'said', 'beijing', 'chinese', 'official', 'taiwan', 'officials', 'economic', 'communist', 'state']\n",
      "Topic 8:\n",
      "['news', 'said', 'early', 'fund', '1997', 'joint', 'year', 'venture', 'start', '1998']\n",
      "Topic 9:\n",
      "['000', 'tonnes', 'said', 'saying', '100', 'cocoa', 'year', 'copper', '500', 'figures']\n",
      "Topic 10:\n",
      "['percent', 'gold', 'price', 'said', 'share', 'market', '20', 'bre', '15', 'stocks']\n",
      "Topic 11:\n",
      "['said', 'wang', 'court', 'rights', 'case', 'chinese', 'given', 'government', 'details', 'action']\n",
      "Topic 12:\n",
      "['chief', 'executive', 'said', 'company', 'years', 'officer', 'new', 'ago', 'development', 'chairman']\n",
      "Topic 13:\n",
      "['bank', 'banks', 'year', 'percent', 'rate', 'canada', 'central', 'credit', 'said', 'banking']\n",
      "Topic 14:\n",
      "['million', 'year', 'pounds', 'profit', 'profits', 'half', '1995', 'net', 'percent', '30']\n",
      "Topic 15:\n",
      "['deal', 'company', 'largest', 'merger', 'world', 'mci', 'bt', 'british', 'stake', 'percent']\n",
      "Topic 16:\n",
      "['billion', 'year', 'total', 'debt', 'said', 'francs', 'worth', 've', 'percent', 'got']\n",
      "Topic 17:\n",
      "['said', 'analyst', 'think', 'going', 'market', 'term', 'good', 'don', 'people', 'added']\n",
      "Topic 18:\n",
      "['quarter', 'sales', 'year', 'said', 'earnings', 'share', 'analysts', 'expected', 'results', 'company']\n",
      "Topic 19:\n",
      "['government', 'said', 'czech', 'general', 'minister', 'ahead', 'finance', 'party', 'house', 'ministry']\n",
      "Topic 20:\n",
      "['said', 'offer', 'shareholders', 'french', 'american', 'airbus', 'south', 'company', 'north', 'new']\n",
      "Topic 21:\n",
      "['british', 'pence', 'bid', 'air', 'share', 'plc', 'group', 'said', 'dividend', 'britain']\n",
      "Topic 22:\n",
      "['said', 'prices', 'oil', 'year', 'demand', 'russia', 'domestic', 'set', 'rates', 'export']\n",
      "Topic 23:\n",
      "['business', 'said', 'life', 'insurance', 'japan', 'market', 'financial', 'non', 'group', 'banks']\n",
      "Topic 24:\n",
      "['gm', 'said', 'workers', 'plant', 'agreement', 'union', 'ford', 'car', 'plants', 'comment']\n",
      "Topic 25:\n",
      "['stock', 'shares', 'trading', 'exchange', 'new', 'close', 'york', 'points', 'share', 'toronto']\n"
     ]
    }
   ],
   "source": [
    "X = list(data.loc[data['Label'] == 'train']['Text'])\n",
    "\n",
    "vectorizer = CountVectorizer(max_features=1000, stop_words='english')\n",
    "X = vectorizer.fit_transform(X)\n",
    "\n",
    "num_topics = 25\n",
    "lda_model = LatentDirichletAllocation(n_components=num_topics, random_state=42)\n",
    "lda_model.fit(X)\n",
    "\n",
    "dict_topics = {}\n",
    "\n",
    "feature_names = vectorizer.get_feature_names_out()\n",
    "for topic_idx, topic in enumerate(lda_model.components_):\n",
    "    print(f\"Topic {topic_idx + 1}:\")\n",
    "    top_words_idx = topic.argsort()[:-10 - 1:-1]\n",
    "    top_words = [feature_names[i] for i in top_words_idx]\n",
    "    print(top_words)\n",
    "    dict_topics[topic_idx] = [(topic_idx + 1), top_words]"
   ]
  },
  {
   "cell_type": "code",
   "execution_count": 47,
   "metadata": {},
   "outputs": [
    {
     "data": {
      "text/html": [
       "<div>\n",
       "<style scoped>\n",
       "    .dataframe tbody tr th:only-of-type {\n",
       "        vertical-align: middle;\n",
       "    }\n",
       "\n",
       "    .dataframe tbody tr th {\n",
       "        vertical-align: top;\n",
       "    }\n",
       "\n",
       "    .dataframe thead th {\n",
       "        text-align: right;\n",
       "    }\n",
       "</style>\n",
       "<table border=\"1\" class=\"dataframe\">\n",
       "  <thead>\n",
       "    <tr style=\"text-align: right;\">\n",
       "      <th></th>\n",
       "      <th>Author</th>\n",
       "      <th>File_Name</th>\n",
       "      <th>Text</th>\n",
       "      <th>Topic</th>\n",
       "    </tr>\n",
       "  </thead>\n",
       "  <tbody>\n",
       "    <tr>\n",
       "      <th>0</th>\n",
       "      <td>AaronPressman</td>\n",
       "      <td>421829newsML.txt</td>\n",
       "      <td>U.S. Senators on Tuesday sharply criticized a ...</td>\n",
       "      <td>17</td>\n",
       "    </tr>\n",
       "    <tr>\n",
       "      <th>1</th>\n",
       "      <td>AaronPressman</td>\n",
       "      <td>424074newsML.txt</td>\n",
       "      <td>Two members of Congress criticised the Federal...</td>\n",
       "      <td>11</td>\n",
       "    </tr>\n",
       "    <tr>\n",
       "      <th>2</th>\n",
       "      <td>AaronPressman</td>\n",
       "      <td>42764newsML.txt</td>\n",
       "      <td>Commuters stuck in traffic on the Leesburg Pik...</td>\n",
       "      <td>3</td>\n",
       "    </tr>\n",
       "    <tr>\n",
       "      <th>3</th>\n",
       "      <td>AaronPressman</td>\n",
       "      <td>43033newsML.txt</td>\n",
       "      <td>A broad coalition of corporations went to Capi...</td>\n",
       "      <td>3</td>\n",
       "    </tr>\n",
       "    <tr>\n",
       "      <th>4</th>\n",
       "      <td>AaronPressman</td>\n",
       "      <td>433558newsML.txt</td>\n",
       "      <td>On the Internet, where new products come and g...</td>\n",
       "      <td>3</td>\n",
       "    </tr>\n",
       "    <tr>\n",
       "      <th>...</th>\n",
       "      <td>...</td>\n",
       "      <td>...</td>\n",
       "      <td>...</td>\n",
       "      <td>...</td>\n",
       "    </tr>\n",
       "    <tr>\n",
       "      <th>2495</th>\n",
       "      <td>WilliamKazer</td>\n",
       "      <td>504283newsML.txt</td>\n",
       "      <td>China has scored new successes in its fight ag...</td>\n",
       "      <td>10</td>\n",
       "    </tr>\n",
       "    <tr>\n",
       "      <th>2496</th>\n",
       "      <td>WilliamKazer</td>\n",
       "      <td>504526newsML.txt</td>\n",
       "      <td>China has scored new successes in its fight ag...</td>\n",
       "      <td>10</td>\n",
       "    </tr>\n",
       "    <tr>\n",
       "      <th>2497</th>\n",
       "      <td>WilliamKazer</td>\n",
       "      <td>51502newsML.txt</td>\n",
       "      <td>China is on target with plans to to promote 10...</td>\n",
       "      <td>22</td>\n",
       "    </tr>\n",
       "    <tr>\n",
       "      <th>2498</th>\n",
       "      <td>WilliamKazer</td>\n",
       "      <td>522090newsML.txt</td>\n",
       "      <td>China may need to adjust the mix of its treasu...</td>\n",
       "      <td>16</td>\n",
       "    </tr>\n",
       "    <tr>\n",
       "      <th>2499</th>\n",
       "      <td>WilliamKazer</td>\n",
       "      <td>58312newsML.txt</td>\n",
       "      <td>A Chinese ideologue known for his strictly ort...</td>\n",
       "      <td>7</td>\n",
       "    </tr>\n",
       "  </tbody>\n",
       "</table>\n",
       "<p>2500 rows × 4 columns</p>\n",
       "</div>"
      ],
      "text/plain": [
       "             Author         File_Name  \\\n",
       "0     AaronPressman  421829newsML.txt   \n",
       "1     AaronPressman  424074newsML.txt   \n",
       "2     AaronPressman   42764newsML.txt   \n",
       "3     AaronPressman   43033newsML.txt   \n",
       "4     AaronPressman  433558newsML.txt   \n",
       "...             ...               ...   \n",
       "2495   WilliamKazer  504283newsML.txt   \n",
       "2496   WilliamKazer  504526newsML.txt   \n",
       "2497   WilliamKazer   51502newsML.txt   \n",
       "2498   WilliamKazer  522090newsML.txt   \n",
       "2499   WilliamKazer   58312newsML.txt   \n",
       "\n",
       "                                                   Text  Topic  \n",
       "0     U.S. Senators on Tuesday sharply criticized a ...     17  \n",
       "1     Two members of Congress criticised the Federal...     11  \n",
       "2     Commuters stuck in traffic on the Leesburg Pik...      3  \n",
       "3     A broad coalition of corporations went to Capi...      3  \n",
       "4     On the Internet, where new products come and g...      3  \n",
       "...                                                 ...    ...  \n",
       "2495  China has scored new successes in its fight ag...     10  \n",
       "2496  China has scored new successes in its fight ag...     10  \n",
       "2497  China is on target with plans to to promote 10...     22  \n",
       "2498  China may need to adjust the mix of its treasu...     16  \n",
       "2499  A Chinese ideologue known for his strictly ort...      7  \n",
       "\n",
       "[2500 rows x 4 columns]"
      ]
     },
     "execution_count": 47,
     "metadata": {},
     "output_type": "execute_result"
    }
   ],
   "source": [
    "def predict_topic(new_doc):\n",
    "    new_doc = [new_doc]\n",
    "    new_doc_vectorized = vectorizer.transform(new_doc)\n",
    "    new_doc_topic_dist = lda_model.transform(new_doc_vectorized)\n",
    "    # print(\"New Document Topic Distribution:\", new_doc_topic_dist)\n",
    "\n",
    "    for probabilities in new_doc_topic_dist:\n",
    "        max_prob = max(probabilities)\n",
    "        for i, probability in enumerate(probabilities):\n",
    "            if probability == max_prob:\n",
    "                topic = dict_topics[i][0]\n",
    "    return topic\n",
    "\n",
    "test = data.loc[data['Label'] == 'test']\n",
    "test = test.groupby(['Author', 'File_Name']).agg(\n",
    "            Text = pd.NamedAgg(column='Text', aggfunc=''.join)\n",
    ")\n",
    "test = test.reset_index(drop=False)\n",
    "test['Topic'] = test['Text'].apply(lambda row: predict_topic(row))\n",
    "test"
   ]
  },
  {
   "cell_type": "code",
   "execution_count": 78,
   "metadata": {},
   "outputs": [
    {
     "data": {
      "application/vnd.plotly.v1+json": {
       "config": {
        "plotlyServerURL": "https://plot.ly"
       },
       "data": [
        {
         "alignmentgroup": "True",
         "hovertemplate": "Topic=%{x}<br>Value_Count=%{y}<extra></extra>",
         "legendgroup": "",
         "marker": {
          "color": "#636efa",
          "pattern": {
           "shape": ""
          }
         },
         "name": "",
         "offsetgroup": "",
         "orientation": "v",
         "showlegend": false,
         "textposition": "auto",
         "type": "bar",
         "x": [
          7,
          3,
          18,
          14,
          2,
          17,
          23,
          20,
          13,
          22,
          24,
          19,
          9,
          25,
          15,
          5,
          10,
          21,
          11,
          12,
          1,
          4,
          16,
          8,
          6
         ],
         "xaxis": "x",
         "y": [
          255,
          214,
          212,
          166,
          159,
          150,
          137,
          126,
          116,
          105,
          95,
          93,
          82,
          81,
          77,
          75,
          73,
          72,
          48,
          48,
          42,
          29,
          27,
          17,
          1
         ],
         "yaxis": "y"
        }
       ],
       "layout": {
        "barmode": "relative",
        "legend": {
         "tracegroupgap": 0
        },
        "template": {
         "data": {
          "bar": [
           {
            "error_x": {
             "color": "#2a3f5f"
            },
            "error_y": {
             "color": "#2a3f5f"
            },
            "marker": {
             "line": {
              "color": "#E5ECF6",
              "width": 0.5
             },
             "pattern": {
              "fillmode": "overlay",
              "size": 10,
              "solidity": 0.2
             }
            },
            "type": "bar"
           }
          ],
          "barpolar": [
           {
            "marker": {
             "line": {
              "color": "#E5ECF6",
              "width": 0.5
             },
             "pattern": {
              "fillmode": "overlay",
              "size": 10,
              "solidity": 0.2
             }
            },
            "type": "barpolar"
           }
          ],
          "carpet": [
           {
            "aaxis": {
             "endlinecolor": "#2a3f5f",
             "gridcolor": "white",
             "linecolor": "white",
             "minorgridcolor": "white",
             "startlinecolor": "#2a3f5f"
            },
            "baxis": {
             "endlinecolor": "#2a3f5f",
             "gridcolor": "white",
             "linecolor": "white",
             "minorgridcolor": "white",
             "startlinecolor": "#2a3f5f"
            },
            "type": "carpet"
           }
          ],
          "choropleth": [
           {
            "colorbar": {
             "outlinewidth": 0,
             "ticks": ""
            },
            "type": "choropleth"
           }
          ],
          "contour": [
           {
            "colorbar": {
             "outlinewidth": 0,
             "ticks": ""
            },
            "colorscale": [
             [
              0,
              "#0d0887"
             ],
             [
              0.1111111111111111,
              "#46039f"
             ],
             [
              0.2222222222222222,
              "#7201a8"
             ],
             [
              0.3333333333333333,
              "#9c179e"
             ],
             [
              0.4444444444444444,
              "#bd3786"
             ],
             [
              0.5555555555555556,
              "#d8576b"
             ],
             [
              0.6666666666666666,
              "#ed7953"
             ],
             [
              0.7777777777777778,
              "#fb9f3a"
             ],
             [
              0.8888888888888888,
              "#fdca26"
             ],
             [
              1,
              "#f0f921"
             ]
            ],
            "type": "contour"
           }
          ],
          "contourcarpet": [
           {
            "colorbar": {
             "outlinewidth": 0,
             "ticks": ""
            },
            "type": "contourcarpet"
           }
          ],
          "heatmap": [
           {
            "colorbar": {
             "outlinewidth": 0,
             "ticks": ""
            },
            "colorscale": [
             [
              0,
              "#0d0887"
             ],
             [
              0.1111111111111111,
              "#46039f"
             ],
             [
              0.2222222222222222,
              "#7201a8"
             ],
             [
              0.3333333333333333,
              "#9c179e"
             ],
             [
              0.4444444444444444,
              "#bd3786"
             ],
             [
              0.5555555555555556,
              "#d8576b"
             ],
             [
              0.6666666666666666,
              "#ed7953"
             ],
             [
              0.7777777777777778,
              "#fb9f3a"
             ],
             [
              0.8888888888888888,
              "#fdca26"
             ],
             [
              1,
              "#f0f921"
             ]
            ],
            "type": "heatmap"
           }
          ],
          "heatmapgl": [
           {
            "colorbar": {
             "outlinewidth": 0,
             "ticks": ""
            },
            "colorscale": [
             [
              0,
              "#0d0887"
             ],
             [
              0.1111111111111111,
              "#46039f"
             ],
             [
              0.2222222222222222,
              "#7201a8"
             ],
             [
              0.3333333333333333,
              "#9c179e"
             ],
             [
              0.4444444444444444,
              "#bd3786"
             ],
             [
              0.5555555555555556,
              "#d8576b"
             ],
             [
              0.6666666666666666,
              "#ed7953"
             ],
             [
              0.7777777777777778,
              "#fb9f3a"
             ],
             [
              0.8888888888888888,
              "#fdca26"
             ],
             [
              1,
              "#f0f921"
             ]
            ],
            "type": "heatmapgl"
           }
          ],
          "histogram": [
           {
            "marker": {
             "pattern": {
              "fillmode": "overlay",
              "size": 10,
              "solidity": 0.2
             }
            },
            "type": "histogram"
           }
          ],
          "histogram2d": [
           {
            "colorbar": {
             "outlinewidth": 0,
             "ticks": ""
            },
            "colorscale": [
             [
              0,
              "#0d0887"
             ],
             [
              0.1111111111111111,
              "#46039f"
             ],
             [
              0.2222222222222222,
              "#7201a8"
             ],
             [
              0.3333333333333333,
              "#9c179e"
             ],
             [
              0.4444444444444444,
              "#bd3786"
             ],
             [
              0.5555555555555556,
              "#d8576b"
             ],
             [
              0.6666666666666666,
              "#ed7953"
             ],
             [
              0.7777777777777778,
              "#fb9f3a"
             ],
             [
              0.8888888888888888,
              "#fdca26"
             ],
             [
              1,
              "#f0f921"
             ]
            ],
            "type": "histogram2d"
           }
          ],
          "histogram2dcontour": [
           {
            "colorbar": {
             "outlinewidth": 0,
             "ticks": ""
            },
            "colorscale": [
             [
              0,
              "#0d0887"
             ],
             [
              0.1111111111111111,
              "#46039f"
             ],
             [
              0.2222222222222222,
              "#7201a8"
             ],
             [
              0.3333333333333333,
              "#9c179e"
             ],
             [
              0.4444444444444444,
              "#bd3786"
             ],
             [
              0.5555555555555556,
              "#d8576b"
             ],
             [
              0.6666666666666666,
              "#ed7953"
             ],
             [
              0.7777777777777778,
              "#fb9f3a"
             ],
             [
              0.8888888888888888,
              "#fdca26"
             ],
             [
              1,
              "#f0f921"
             ]
            ],
            "type": "histogram2dcontour"
           }
          ],
          "mesh3d": [
           {
            "colorbar": {
             "outlinewidth": 0,
             "ticks": ""
            },
            "type": "mesh3d"
           }
          ],
          "parcoords": [
           {
            "line": {
             "colorbar": {
              "outlinewidth": 0,
              "ticks": ""
             }
            },
            "type": "parcoords"
           }
          ],
          "pie": [
           {
            "automargin": true,
            "type": "pie"
           }
          ],
          "scatter": [
           {
            "fillpattern": {
             "fillmode": "overlay",
             "size": 10,
             "solidity": 0.2
            },
            "type": "scatter"
           }
          ],
          "scatter3d": [
           {
            "line": {
             "colorbar": {
              "outlinewidth": 0,
              "ticks": ""
             }
            },
            "marker": {
             "colorbar": {
              "outlinewidth": 0,
              "ticks": ""
             }
            },
            "type": "scatter3d"
           }
          ],
          "scattercarpet": [
           {
            "marker": {
             "colorbar": {
              "outlinewidth": 0,
              "ticks": ""
             }
            },
            "type": "scattercarpet"
           }
          ],
          "scattergeo": [
           {
            "marker": {
             "colorbar": {
              "outlinewidth": 0,
              "ticks": ""
             }
            },
            "type": "scattergeo"
           }
          ],
          "scattergl": [
           {
            "marker": {
             "colorbar": {
              "outlinewidth": 0,
              "ticks": ""
             }
            },
            "type": "scattergl"
           }
          ],
          "scattermapbox": [
           {
            "marker": {
             "colorbar": {
              "outlinewidth": 0,
              "ticks": ""
             }
            },
            "type": "scattermapbox"
           }
          ],
          "scatterpolar": [
           {
            "marker": {
             "colorbar": {
              "outlinewidth": 0,
              "ticks": ""
             }
            },
            "type": "scatterpolar"
           }
          ],
          "scatterpolargl": [
           {
            "marker": {
             "colorbar": {
              "outlinewidth": 0,
              "ticks": ""
             }
            },
            "type": "scatterpolargl"
           }
          ],
          "scatterternary": [
           {
            "marker": {
             "colorbar": {
              "outlinewidth": 0,
              "ticks": ""
             }
            },
            "type": "scatterternary"
           }
          ],
          "surface": [
           {
            "colorbar": {
             "outlinewidth": 0,
             "ticks": ""
            },
            "colorscale": [
             [
              0,
              "#0d0887"
             ],
             [
              0.1111111111111111,
              "#46039f"
             ],
             [
              0.2222222222222222,
              "#7201a8"
             ],
             [
              0.3333333333333333,
              "#9c179e"
             ],
             [
              0.4444444444444444,
              "#bd3786"
             ],
             [
              0.5555555555555556,
              "#d8576b"
             ],
             [
              0.6666666666666666,
              "#ed7953"
             ],
             [
              0.7777777777777778,
              "#fb9f3a"
             ],
             [
              0.8888888888888888,
              "#fdca26"
             ],
             [
              1,
              "#f0f921"
             ]
            ],
            "type": "surface"
           }
          ],
          "table": [
           {
            "cells": {
             "fill": {
              "color": "#EBF0F8"
             },
             "line": {
              "color": "white"
             }
            },
            "header": {
             "fill": {
              "color": "#C8D4E3"
             },
             "line": {
              "color": "white"
             }
            },
            "type": "table"
           }
          ]
         },
         "layout": {
          "annotationdefaults": {
           "arrowcolor": "#2a3f5f",
           "arrowhead": 0,
           "arrowwidth": 1
          },
          "autotypenumbers": "strict",
          "coloraxis": {
           "colorbar": {
            "outlinewidth": 0,
            "ticks": ""
           }
          },
          "colorscale": {
           "diverging": [
            [
             0,
             "#8e0152"
            ],
            [
             0.1,
             "#c51b7d"
            ],
            [
             0.2,
             "#de77ae"
            ],
            [
             0.3,
             "#f1b6da"
            ],
            [
             0.4,
             "#fde0ef"
            ],
            [
             0.5,
             "#f7f7f7"
            ],
            [
             0.6,
             "#e6f5d0"
            ],
            [
             0.7,
             "#b8e186"
            ],
            [
             0.8,
             "#7fbc41"
            ],
            [
             0.9,
             "#4d9221"
            ],
            [
             1,
             "#276419"
            ]
           ],
           "sequential": [
            [
             0,
             "#0d0887"
            ],
            [
             0.1111111111111111,
             "#46039f"
            ],
            [
             0.2222222222222222,
             "#7201a8"
            ],
            [
             0.3333333333333333,
             "#9c179e"
            ],
            [
             0.4444444444444444,
             "#bd3786"
            ],
            [
             0.5555555555555556,
             "#d8576b"
            ],
            [
             0.6666666666666666,
             "#ed7953"
            ],
            [
             0.7777777777777778,
             "#fb9f3a"
            ],
            [
             0.8888888888888888,
             "#fdca26"
            ],
            [
             1,
             "#f0f921"
            ]
           ],
           "sequentialminus": [
            [
             0,
             "#0d0887"
            ],
            [
             0.1111111111111111,
             "#46039f"
            ],
            [
             0.2222222222222222,
             "#7201a8"
            ],
            [
             0.3333333333333333,
             "#9c179e"
            ],
            [
             0.4444444444444444,
             "#bd3786"
            ],
            [
             0.5555555555555556,
             "#d8576b"
            ],
            [
             0.6666666666666666,
             "#ed7953"
            ],
            [
             0.7777777777777778,
             "#fb9f3a"
            ],
            [
             0.8888888888888888,
             "#fdca26"
            ],
            [
             1,
             "#f0f921"
            ]
           ]
          },
          "colorway": [
           "#636efa",
           "#EF553B",
           "#00cc96",
           "#ab63fa",
           "#FFA15A",
           "#19d3f3",
           "#FF6692",
           "#B6E880",
           "#FF97FF",
           "#FECB52"
          ],
          "font": {
           "color": "#2a3f5f"
          },
          "geo": {
           "bgcolor": "white",
           "lakecolor": "white",
           "landcolor": "#E5ECF6",
           "showlakes": true,
           "showland": true,
           "subunitcolor": "white"
          },
          "hoverlabel": {
           "align": "left"
          },
          "hovermode": "closest",
          "mapbox": {
           "style": "light"
          },
          "paper_bgcolor": "white",
          "plot_bgcolor": "#E5ECF6",
          "polar": {
           "angularaxis": {
            "gridcolor": "white",
            "linecolor": "white",
            "ticks": ""
           },
           "bgcolor": "#E5ECF6",
           "radialaxis": {
            "gridcolor": "white",
            "linecolor": "white",
            "ticks": ""
           }
          },
          "scene": {
           "xaxis": {
            "backgroundcolor": "#E5ECF6",
            "gridcolor": "white",
            "gridwidth": 2,
            "linecolor": "white",
            "showbackground": true,
            "ticks": "",
            "zerolinecolor": "white"
           },
           "yaxis": {
            "backgroundcolor": "#E5ECF6",
            "gridcolor": "white",
            "gridwidth": 2,
            "linecolor": "white",
            "showbackground": true,
            "ticks": "",
            "zerolinecolor": "white"
           },
           "zaxis": {
            "backgroundcolor": "#E5ECF6",
            "gridcolor": "white",
            "gridwidth": 2,
            "linecolor": "white",
            "showbackground": true,
            "ticks": "",
            "zerolinecolor": "white"
           }
          },
          "shapedefaults": {
           "line": {
            "color": "#2a3f5f"
           }
          },
          "ternary": {
           "aaxis": {
            "gridcolor": "white",
            "linecolor": "white",
            "ticks": ""
           },
           "baxis": {
            "gridcolor": "white",
            "linecolor": "white",
            "ticks": ""
           },
           "bgcolor": "#E5ECF6",
           "caxis": {
            "gridcolor": "white",
            "linecolor": "white",
            "ticks": ""
           }
          },
          "title": {
           "x": 0.05
          },
          "xaxis": {
           "automargin": true,
           "gridcolor": "white",
           "linecolor": "white",
           "ticks": "",
           "title": {
            "standoff": 15
           },
           "zerolinecolor": "white",
           "zerolinewidth": 2
          },
          "yaxis": {
           "automargin": true,
           "gridcolor": "white",
           "linecolor": "white",
           "ticks": "",
           "title": {
            "standoff": 15
           },
           "zerolinecolor": "white",
           "zerolinewidth": 2
          }
         }
        },
        "title": {
         "text": "Test Set Frequency Count"
        },
        "xaxis": {
         "anchor": "y",
         "domain": [
          0,
          1
         ],
         "tickmode": "array",
         "ticktext": [
          7,
          3,
          18,
          14,
          2,
          17,
          23,
          20,
          13,
          22,
          24,
          19,
          9,
          25,
          15,
          5,
          10,
          21,
          11,
          12,
          1,
          4,
          16,
          8,
          6
         ],
         "tickvals": [
          7,
          3,
          18,
          14,
          2,
          17,
          23,
          20,
          13,
          22,
          24,
          19,
          9,
          25,
          15,
          5,
          10,
          21,
          11,
          12,
          1,
          4,
          16,
          8,
          6
         ],
         "title": {
          "text": "Identified Topic"
         }
        },
        "yaxis": {
         "anchor": "x",
         "domain": [
          0,
          1
         ],
         "title": {
          "text": "Frequency"
         }
        }
       }
      }
     },
     "metadata": {},
     "output_type": "display_data"
    }
   ],
   "source": [
    "df_freq = pd.DataFrame(test['Topic'].value_counts()).reset_index(drop=False)\n",
    "df_freq = df_freq.rename(columns={'Topic':'Value_Count', 'index':'Topic'})\n",
    "df_freq = df_freq.astype({'Topic': object})\n",
    "df_freq = df_freq.sort_values('Value_Count', ascending=False)\n",
    "\n",
    "fig = px.bar(df_freq_sorted, x=\"Topic\", y=\"Value_Count\", title='Test Set Frequency Count')\n",
    "fig.update_layout(\n",
    "    xaxis = dict(\n",
    "        tickmode = 'array',\n",
    "        tickvals = df_freq['Topic'],\n",
    "        ticktext = df_freq['Topic'],\n",
    "        title = \"Identified Topic\"\n",
    "    ),\n",
    "    yaxis_title=\"Frequency\",\n",
    "    title='Test Set Frequency Count'\n",
    ")\n",
    "\n",
    "fig.show()"
   ]
  },
  {
   "cell_type": "code",
   "execution_count": 81,
   "metadata": {},
   "outputs": [
    {
     "data": {
      "application/vnd.plotly.v1+json": {
       "config": {
        "plotlyServerURL": "https://plot.ly"
       },
       "data": [
        {
         "alignmentgroup": "True",
         "hovertemplate": "Author=%{x}<br>Topic=%{y}<extra></extra>",
         "legendgroup": "",
         "marker": {
          "color": "#636efa",
          "pattern": {
           "shape": ""
          }
         },
         "name": "",
         "offsetgroup": "",
         "orientation": "v",
         "showlegend": false,
         "textposition": "auto",
         "type": "bar",
         "x": [
          "AaronPressman",
          "AlanCrosby",
          "AlexanderSmith",
          "BenjaminKangLim",
          "BernardHickey",
          "BradDorfman",
          "DarrenSchuettler",
          "DavidLawder",
          "EdnaFernandes",
          "EricAuchard",
          "FumikoFujisaki",
          "GrahamEarnshaw",
          "HeatherScoffield",
          "JanLopatka",
          "JaneMacartney",
          "JimGilchrist",
          "JoWinterbottom",
          "JoeOrtiz",
          "JohnMastrini",
          "JonathanBirt",
          "KarlPenhaul",
          "KeithWeir",
          "KevinDrawbaugh",
          "KevinMorrison",
          "KirstinRidley",
          "KouroshKarimkhany",
          "LydiaZajc",
          "LynneO'Donnell",
          "LynnleyBrowning",
          "MarcelMichelson",
          "MarkBendeich",
          "MartinWolk",
          "MatthewBunce",
          "MichaelConnor",
          "MureDickie",
          "NickLouth",
          "PatriciaCommins",
          "PeterHumphrey",
          "PierreTran",
          "RobinSidel",
          "RogerFillion",
          "SamuelPerry",
          "SarahDavison",
          "ScottHillis",
          "SimonCowell",
          "TanEeLyn",
          "TheresePoletti",
          "TimFarrand",
          "ToddNissen",
          "WilliamKazer"
         ],
         "xaxis": "x",
         "y": [
          3,
          13,
          17,
          7,
          23,
          18,
          10,
          24,
          21,
          3,
          23,
          7,
          10,
          19,
          7,
          2,
          21,
          23,
          19,
          14,
          24,
          14,
          18,
          14,
          15,
          3,
          25,
          9,
          22,
          20,
          13,
          18,
          9,
          11,
          7,
          5,
          18,
          2,
          20,
          20,
          5,
          3,
          2,
          7,
          14,
          2,
          3,
          14,
          24,
          7
         ],
         "yaxis": "y"
        }
       ],
       "layout": {
        "barmode": "relative",
        "legend": {
         "tracegroupgap": 0
        },
        "template": {
         "data": {
          "bar": [
           {
            "error_x": {
             "color": "#2a3f5f"
            },
            "error_y": {
             "color": "#2a3f5f"
            },
            "marker": {
             "line": {
              "color": "#E5ECF6",
              "width": 0.5
             },
             "pattern": {
              "fillmode": "overlay",
              "size": 10,
              "solidity": 0.2
             }
            },
            "type": "bar"
           }
          ],
          "barpolar": [
           {
            "marker": {
             "line": {
              "color": "#E5ECF6",
              "width": 0.5
             },
             "pattern": {
              "fillmode": "overlay",
              "size": 10,
              "solidity": 0.2
             }
            },
            "type": "barpolar"
           }
          ],
          "carpet": [
           {
            "aaxis": {
             "endlinecolor": "#2a3f5f",
             "gridcolor": "white",
             "linecolor": "white",
             "minorgridcolor": "white",
             "startlinecolor": "#2a3f5f"
            },
            "baxis": {
             "endlinecolor": "#2a3f5f",
             "gridcolor": "white",
             "linecolor": "white",
             "minorgridcolor": "white",
             "startlinecolor": "#2a3f5f"
            },
            "type": "carpet"
           }
          ],
          "choropleth": [
           {
            "colorbar": {
             "outlinewidth": 0,
             "ticks": ""
            },
            "type": "choropleth"
           }
          ],
          "contour": [
           {
            "colorbar": {
             "outlinewidth": 0,
             "ticks": ""
            },
            "colorscale": [
             [
              0,
              "#0d0887"
             ],
             [
              0.1111111111111111,
              "#46039f"
             ],
             [
              0.2222222222222222,
              "#7201a8"
             ],
             [
              0.3333333333333333,
              "#9c179e"
             ],
             [
              0.4444444444444444,
              "#bd3786"
             ],
             [
              0.5555555555555556,
              "#d8576b"
             ],
             [
              0.6666666666666666,
              "#ed7953"
             ],
             [
              0.7777777777777778,
              "#fb9f3a"
             ],
             [
              0.8888888888888888,
              "#fdca26"
             ],
             [
              1,
              "#f0f921"
             ]
            ],
            "type": "contour"
           }
          ],
          "contourcarpet": [
           {
            "colorbar": {
             "outlinewidth": 0,
             "ticks": ""
            },
            "type": "contourcarpet"
           }
          ],
          "heatmap": [
           {
            "colorbar": {
             "outlinewidth": 0,
             "ticks": ""
            },
            "colorscale": [
             [
              0,
              "#0d0887"
             ],
             [
              0.1111111111111111,
              "#46039f"
             ],
             [
              0.2222222222222222,
              "#7201a8"
             ],
             [
              0.3333333333333333,
              "#9c179e"
             ],
             [
              0.4444444444444444,
              "#bd3786"
             ],
             [
              0.5555555555555556,
              "#d8576b"
             ],
             [
              0.6666666666666666,
              "#ed7953"
             ],
             [
              0.7777777777777778,
              "#fb9f3a"
             ],
             [
              0.8888888888888888,
              "#fdca26"
             ],
             [
              1,
              "#f0f921"
             ]
            ],
            "type": "heatmap"
           }
          ],
          "heatmapgl": [
           {
            "colorbar": {
             "outlinewidth": 0,
             "ticks": ""
            },
            "colorscale": [
             [
              0,
              "#0d0887"
             ],
             [
              0.1111111111111111,
              "#46039f"
             ],
             [
              0.2222222222222222,
              "#7201a8"
             ],
             [
              0.3333333333333333,
              "#9c179e"
             ],
             [
              0.4444444444444444,
              "#bd3786"
             ],
             [
              0.5555555555555556,
              "#d8576b"
             ],
             [
              0.6666666666666666,
              "#ed7953"
             ],
             [
              0.7777777777777778,
              "#fb9f3a"
             ],
             [
              0.8888888888888888,
              "#fdca26"
             ],
             [
              1,
              "#f0f921"
             ]
            ],
            "type": "heatmapgl"
           }
          ],
          "histogram": [
           {
            "marker": {
             "pattern": {
              "fillmode": "overlay",
              "size": 10,
              "solidity": 0.2
             }
            },
            "type": "histogram"
           }
          ],
          "histogram2d": [
           {
            "colorbar": {
             "outlinewidth": 0,
             "ticks": ""
            },
            "colorscale": [
             [
              0,
              "#0d0887"
             ],
             [
              0.1111111111111111,
              "#46039f"
             ],
             [
              0.2222222222222222,
              "#7201a8"
             ],
             [
              0.3333333333333333,
              "#9c179e"
             ],
             [
              0.4444444444444444,
              "#bd3786"
             ],
             [
              0.5555555555555556,
              "#d8576b"
             ],
             [
              0.6666666666666666,
              "#ed7953"
             ],
             [
              0.7777777777777778,
              "#fb9f3a"
             ],
             [
              0.8888888888888888,
              "#fdca26"
             ],
             [
              1,
              "#f0f921"
             ]
            ],
            "type": "histogram2d"
           }
          ],
          "histogram2dcontour": [
           {
            "colorbar": {
             "outlinewidth": 0,
             "ticks": ""
            },
            "colorscale": [
             [
              0,
              "#0d0887"
             ],
             [
              0.1111111111111111,
              "#46039f"
             ],
             [
              0.2222222222222222,
              "#7201a8"
             ],
             [
              0.3333333333333333,
              "#9c179e"
             ],
             [
              0.4444444444444444,
              "#bd3786"
             ],
             [
              0.5555555555555556,
              "#d8576b"
             ],
             [
              0.6666666666666666,
              "#ed7953"
             ],
             [
              0.7777777777777778,
              "#fb9f3a"
             ],
             [
              0.8888888888888888,
              "#fdca26"
             ],
             [
              1,
              "#f0f921"
             ]
            ],
            "type": "histogram2dcontour"
           }
          ],
          "mesh3d": [
           {
            "colorbar": {
             "outlinewidth": 0,
             "ticks": ""
            },
            "type": "mesh3d"
           }
          ],
          "parcoords": [
           {
            "line": {
             "colorbar": {
              "outlinewidth": 0,
              "ticks": ""
             }
            },
            "type": "parcoords"
           }
          ],
          "pie": [
           {
            "automargin": true,
            "type": "pie"
           }
          ],
          "scatter": [
           {
            "fillpattern": {
             "fillmode": "overlay",
             "size": 10,
             "solidity": 0.2
            },
            "type": "scatter"
           }
          ],
          "scatter3d": [
           {
            "line": {
             "colorbar": {
              "outlinewidth": 0,
              "ticks": ""
             }
            },
            "marker": {
             "colorbar": {
              "outlinewidth": 0,
              "ticks": ""
             }
            },
            "type": "scatter3d"
           }
          ],
          "scattercarpet": [
           {
            "marker": {
             "colorbar": {
              "outlinewidth": 0,
              "ticks": ""
             }
            },
            "type": "scattercarpet"
           }
          ],
          "scattergeo": [
           {
            "marker": {
             "colorbar": {
              "outlinewidth": 0,
              "ticks": ""
             }
            },
            "type": "scattergeo"
           }
          ],
          "scattergl": [
           {
            "marker": {
             "colorbar": {
              "outlinewidth": 0,
              "ticks": ""
             }
            },
            "type": "scattergl"
           }
          ],
          "scattermapbox": [
           {
            "marker": {
             "colorbar": {
              "outlinewidth": 0,
              "ticks": ""
             }
            },
            "type": "scattermapbox"
           }
          ],
          "scatterpolar": [
           {
            "marker": {
             "colorbar": {
              "outlinewidth": 0,
              "ticks": ""
             }
            },
            "type": "scatterpolar"
           }
          ],
          "scatterpolargl": [
           {
            "marker": {
             "colorbar": {
              "outlinewidth": 0,
              "ticks": ""
             }
            },
            "type": "scatterpolargl"
           }
          ],
          "scatterternary": [
           {
            "marker": {
             "colorbar": {
              "outlinewidth": 0,
              "ticks": ""
             }
            },
            "type": "scatterternary"
           }
          ],
          "surface": [
           {
            "colorbar": {
             "outlinewidth": 0,
             "ticks": ""
            },
            "colorscale": [
             [
              0,
              "#0d0887"
             ],
             [
              0.1111111111111111,
              "#46039f"
             ],
             [
              0.2222222222222222,
              "#7201a8"
             ],
             [
              0.3333333333333333,
              "#9c179e"
             ],
             [
              0.4444444444444444,
              "#bd3786"
             ],
             [
              0.5555555555555556,
              "#d8576b"
             ],
             [
              0.6666666666666666,
              "#ed7953"
             ],
             [
              0.7777777777777778,
              "#fb9f3a"
             ],
             [
              0.8888888888888888,
              "#fdca26"
             ],
             [
              1,
              "#f0f921"
             ]
            ],
            "type": "surface"
           }
          ],
          "table": [
           {
            "cells": {
             "fill": {
              "color": "#EBF0F8"
             },
             "line": {
              "color": "white"
             }
            },
            "header": {
             "fill": {
              "color": "#C8D4E3"
             },
             "line": {
              "color": "white"
             }
            },
            "type": "table"
           }
          ]
         },
         "layout": {
          "annotationdefaults": {
           "arrowcolor": "#2a3f5f",
           "arrowhead": 0,
           "arrowwidth": 1
          },
          "autotypenumbers": "strict",
          "coloraxis": {
           "colorbar": {
            "outlinewidth": 0,
            "ticks": ""
           }
          },
          "colorscale": {
           "diverging": [
            [
             0,
             "#8e0152"
            ],
            [
             0.1,
             "#c51b7d"
            ],
            [
             0.2,
             "#de77ae"
            ],
            [
             0.3,
             "#f1b6da"
            ],
            [
             0.4,
             "#fde0ef"
            ],
            [
             0.5,
             "#f7f7f7"
            ],
            [
             0.6,
             "#e6f5d0"
            ],
            [
             0.7,
             "#b8e186"
            ],
            [
             0.8,
             "#7fbc41"
            ],
            [
             0.9,
             "#4d9221"
            ],
            [
             1,
             "#276419"
            ]
           ],
           "sequential": [
            [
             0,
             "#0d0887"
            ],
            [
             0.1111111111111111,
             "#46039f"
            ],
            [
             0.2222222222222222,
             "#7201a8"
            ],
            [
             0.3333333333333333,
             "#9c179e"
            ],
            [
             0.4444444444444444,
             "#bd3786"
            ],
            [
             0.5555555555555556,
             "#d8576b"
            ],
            [
             0.6666666666666666,
             "#ed7953"
            ],
            [
             0.7777777777777778,
             "#fb9f3a"
            ],
            [
             0.8888888888888888,
             "#fdca26"
            ],
            [
             1,
             "#f0f921"
            ]
           ],
           "sequentialminus": [
            [
             0,
             "#0d0887"
            ],
            [
             0.1111111111111111,
             "#46039f"
            ],
            [
             0.2222222222222222,
             "#7201a8"
            ],
            [
             0.3333333333333333,
             "#9c179e"
            ],
            [
             0.4444444444444444,
             "#bd3786"
            ],
            [
             0.5555555555555556,
             "#d8576b"
            ],
            [
             0.6666666666666666,
             "#ed7953"
            ],
            [
             0.7777777777777778,
             "#fb9f3a"
            ],
            [
             0.8888888888888888,
             "#fdca26"
            ],
            [
             1,
             "#f0f921"
            ]
           ]
          },
          "colorway": [
           "#636efa",
           "#EF553B",
           "#00cc96",
           "#ab63fa",
           "#FFA15A",
           "#19d3f3",
           "#FF6692",
           "#B6E880",
           "#FF97FF",
           "#FECB52"
          ],
          "font": {
           "color": "#2a3f5f"
          },
          "geo": {
           "bgcolor": "white",
           "lakecolor": "white",
           "landcolor": "#E5ECF6",
           "showlakes": true,
           "showland": true,
           "subunitcolor": "white"
          },
          "hoverlabel": {
           "align": "left"
          },
          "hovermode": "closest",
          "mapbox": {
           "style": "light"
          },
          "paper_bgcolor": "white",
          "plot_bgcolor": "#E5ECF6",
          "polar": {
           "angularaxis": {
            "gridcolor": "white",
            "linecolor": "white",
            "ticks": ""
           },
           "bgcolor": "#E5ECF6",
           "radialaxis": {
            "gridcolor": "white",
            "linecolor": "white",
            "ticks": ""
           }
          },
          "scene": {
           "xaxis": {
            "backgroundcolor": "#E5ECF6",
            "gridcolor": "white",
            "gridwidth": 2,
            "linecolor": "white",
            "showbackground": true,
            "ticks": "",
            "zerolinecolor": "white"
           },
           "yaxis": {
            "backgroundcolor": "#E5ECF6",
            "gridcolor": "white",
            "gridwidth": 2,
            "linecolor": "white",
            "showbackground": true,
            "ticks": "",
            "zerolinecolor": "white"
           },
           "zaxis": {
            "backgroundcolor": "#E5ECF6",
            "gridcolor": "white",
            "gridwidth": 2,
            "linecolor": "white",
            "showbackground": true,
            "ticks": "",
            "zerolinecolor": "white"
           }
          },
          "shapedefaults": {
           "line": {
            "color": "#2a3f5f"
           }
          },
          "ternary": {
           "aaxis": {
            "gridcolor": "white",
            "linecolor": "white",
            "ticks": ""
           },
           "baxis": {
            "gridcolor": "white",
            "linecolor": "white",
            "ticks": ""
           },
           "bgcolor": "#E5ECF6",
           "caxis": {
            "gridcolor": "white",
            "linecolor": "white",
            "ticks": ""
           }
          },
          "title": {
           "x": 0.05
          },
          "xaxis": {
           "automargin": true,
           "gridcolor": "white",
           "linecolor": "white",
           "ticks": "",
           "title": {
            "standoff": 15
           },
           "zerolinecolor": "white",
           "zerolinewidth": 2
          },
          "yaxis": {
           "automargin": true,
           "gridcolor": "white",
           "linecolor": "white",
           "ticks": "",
           "title": {
            "standoff": 15
           },
           "zerolinecolor": "white",
           "zerolinewidth": 2
          }
         }
        },
        "title": {
         "text": "Most Frequent Topic"
        },
        "xaxis": {
         "anchor": "y",
         "domain": [
          0,
          1
         ],
         "tickmode": "array",
         "ticktext": [
          "AaronPressman",
          "AlanCrosby",
          "AlexanderSmith",
          "BenjaminKangLim",
          "BernardHickey",
          "BradDorfman",
          "DarrenSchuettler",
          "DavidLawder",
          "EdnaFernandes",
          "EricAuchard",
          "FumikoFujisaki",
          "GrahamEarnshaw",
          "HeatherScoffield",
          "JanLopatka",
          "JaneMacartney",
          "JimGilchrist",
          "JoWinterbottom",
          "JoeOrtiz",
          "JohnMastrini",
          "JonathanBirt",
          "KarlPenhaul",
          "KeithWeir",
          "KevinDrawbaugh",
          "KevinMorrison",
          "KirstinRidley",
          "KouroshKarimkhany",
          "LydiaZajc",
          "LynneO'Donnell",
          "LynnleyBrowning",
          "MarcelMichelson",
          "MarkBendeich",
          "MartinWolk",
          "MatthewBunce",
          "MichaelConnor",
          "MureDickie",
          "NickLouth",
          "PatriciaCommins",
          "PeterHumphrey",
          "PierreTran",
          "RobinSidel",
          "RogerFillion",
          "SamuelPerry",
          "SarahDavison",
          "ScottHillis",
          "SimonCowell",
          "TanEeLyn",
          "TheresePoletti",
          "TimFarrand",
          "ToddNissen",
          "WilliamKazer"
         ],
         "tickvals": [
          "AaronPressman",
          "AlanCrosby",
          "AlexanderSmith",
          "BenjaminKangLim",
          "BernardHickey",
          "BradDorfman",
          "DarrenSchuettler",
          "DavidLawder",
          "EdnaFernandes",
          "EricAuchard",
          "FumikoFujisaki",
          "GrahamEarnshaw",
          "HeatherScoffield",
          "JanLopatka",
          "JaneMacartney",
          "JimGilchrist",
          "JoWinterbottom",
          "JoeOrtiz",
          "JohnMastrini",
          "JonathanBirt",
          "KarlPenhaul",
          "KeithWeir",
          "KevinDrawbaugh",
          "KevinMorrison",
          "KirstinRidley",
          "KouroshKarimkhany",
          "LydiaZajc",
          "LynneO'Donnell",
          "LynnleyBrowning",
          "MarcelMichelson",
          "MarkBendeich",
          "MartinWolk",
          "MatthewBunce",
          "MichaelConnor",
          "MureDickie",
          "NickLouth",
          "PatriciaCommins",
          "PeterHumphrey",
          "PierreTran",
          "RobinSidel",
          "RogerFillion",
          "SamuelPerry",
          "SarahDavison",
          "ScottHillis",
          "SimonCowell",
          "TanEeLyn",
          "TheresePoletti",
          "TimFarrand",
          "ToddNissen",
          "WilliamKazer"
         ],
         "title": {
          "text": "Authors"
         }
        },
        "yaxis": {
         "anchor": "x",
         "domain": [
          0,
          1
         ],
         "title": {
          "text": "Topic"
         }
        }
       }
      }
     },
     "metadata": {},
     "output_type": "display_data"
    }
   ],
   "source": [
    "df_authors = test.groupby(['Author', 'Topic']).agg(\n",
    "                count_freq = pd.NamedAgg(column='Topic', aggfunc='count')\n",
    ")\n",
    "df_authors = df_authors.reset_index(drop=False)\n",
    "df_authors = df_authors.sort_values(['Author', 'count_freq']).drop_duplicates('Author', keep='last')\n",
    "df_authors = df_authors.reset_index(drop=False)\n",
    "\n",
    "fig = px.bar(df_authors, x=\"Author\", y=\"Topic\", title='Most Frequent Topic')\n",
    "fig.update_layout(\n",
    "    xaxis = dict(\n",
    "        tickmode = 'array',\n",
    "        tickvals = df_authors['Author'],\n",
    "        ticktext = df_authors['Author'],\n",
    "        title = \"Authors\"\n",
    "    ),\n",
    "    yaxis_title=\"Topic\",\n",
    "    title='Most Frequent Topic'\n",
    ")\n",
    "\n",
    "fig.show()"
   ]
  },
  {
   "cell_type": "code",
   "execution_count": null,
   "metadata": {},
   "outputs": [],
   "source": []
  }
 ],
 "metadata": {
  "kernelspec": {
   "display_name": "Python 3",
   "language": "python",
   "name": "python3"
  },
  "language_info": {
   "codemirror_mode": {
    "name": "ipython",
    "version": 3
   },
   "file_extension": ".py",
   "mimetype": "text/x-python",
   "name": "python",
   "nbconvert_exporter": "python",
   "pygments_lexer": "ipython3",
   "version": "3.8.13"
  },
  "orig_nbformat": 4
 },
 "nbformat": 4,
 "nbformat_minor": 2
}
